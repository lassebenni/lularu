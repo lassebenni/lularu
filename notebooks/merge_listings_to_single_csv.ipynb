{
 "cells": [
  {
   "cell_type": "code",
   "execution_count": 1,
   "metadata": {
    "collapsed": true
   },
   "outputs": [],
   "source": [
    "import pandas as pd\n",
    "import numpy as np\n",
    "import matplotlib.pyplot as plt\n",
    "%config IPCompleter.greedy=True"
   ]
  },
  {
   "cell_type": "code",
   "execution_count": 2,
   "metadata": {
    "collapsed": true
   },
   "outputs": [],
   "source": [
    "input_path = \"tom_slee/*.csv\"\n",
    "output_path = \"tom_slee/all_tom_slee_listings.csv\""
   ]
  },
  {
   "cell_type": "code",
   "execution_count": 3,
   "metadata": {},
   "outputs": [],
   "source": [
    "import glob\n",
    "dataframes = []\n",
    "\n",
    "# Get all csv files in dir and map them to a tuple with the date and dataframe\n",
    "# put the dates in a list for easy iteration\n",
    "for idx, val in enumerate(glob.glob(input_path)):\n",
    "    try:\n",
    "        dataframes.append(pd.read_csv(val, encoding='ISO-8859-1', low_memory=False))\n",
    "    except Exception as e:\n",
    "        print(e)\n",
    "        \n",
    "joined = pd.concat(dataframes)\n",
    "joined.to_csv(output_path)"
   ]
  }
 ],
 "metadata": {
  "kernelspec": {
   "display_name": "Python 3",
   "language": "python",
   "name": "python3"
  },
  "language_info": {
   "codemirror_mode": {
    "name": "ipython",
    "version": 3
   },
   "file_extension": ".py",
   "mimetype": "text/x-python",
   "name": "python",
   "nbconvert_exporter": "python",
   "pygments_lexer": "ipython3",
   "version": "3.6.3"
  }
 },
 "nbformat": 4,
 "nbformat_minor": 2
}
