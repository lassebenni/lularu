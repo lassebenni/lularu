{
 "cells": [
  {
   "cell_type": "code",
   "execution_count": 1,
   "metadata": {
    "collapsed": true,
    "deletable": true,
    "editable": true
   },
   "outputs": [],
   "source": [
    "import pandas as pd\n",
    "import numpy as np\n",
    "import matplotlib.pyplot as plt\n",
    "import re\n",
    "%config IPCompleter.greedy=True"
   ]
  },
  {
   "cell_type": "code",
   "execution_count": 98,
   "metadata": {
    "collapsed": true,
    "deletable": true,
    "editable": true
   },
   "outputs": [],
   "source": [
    "path = 'tom_slee/'\n",
    "filename = 'all_tom_slee_listings.csv'\n",
    "df = pd.read_csv(path + filename, encoding='ISO-8859-1', low_memory=False)"
   ]
  },
  {
   "cell_type": "code",
   "execution_count": 101,
   "metadata": {
    "collapsed": true,
    "deletable": true,
    "editable": true
   },
   "outputs": [],
   "source": [
    "if 'last_review' in df:\n",
    "    df = listings[listings.last_review > '0'] \\\n",
    "    .sort_values(by='last_review', axis=0)"
   ]
  },
  {
   "cell_type": "code",
   "execution_count": 4,
   "metadata": {
    "collapsed": true,
    "deletable": true,
    "editable": true
   },
   "outputs": [],
   "source": [
    "def find_m2_in_txt(lines):\n",
    "    return [s for s in lines if any(xs in s for xs in ['m2'])]"
   ]
  },
  {
   "cell_type": "code",
   "execution_count": 5,
   "metadata": {
    "collapsed": true,
    "deletable": true,
    "editable": true
   },
   "outputs": [],
   "source": [
    "# extract the number of m2 for each string in a list that contains string 'm2'\n",
    "def m2_amount(ls):\n",
    "    answer = ''\n",
    "    for line in ls:\n",
    "        match = re.search(r'\\b(\\d*)?m2\\b', line)\n",
    "        if match is not None and len(match.groups()) > 0:\n",
    "            answer = match.group(1)\n",
    "            has_digits = any(char.isdigit() for char in answer)\n",
    "            if has_digits:\n",
    "                break\n",
    "            else:\n",
    "                previous_word_match = re.search(r'(\\d*) (\\bm2\\b)', line)\n",
    "                if previous_word_match is not None and len(previous_word_match.groups()) > 0:\n",
    "                    answer = previous_word_match.group(1)\n",
    "                    break\n",
    "    return answer"
   ]
  },
  {
   "cell_type": "code",
   "execution_count": 6,
   "metadata": {
    "collapsed": true,
    "deletable": true,
    "editable": true
   },
   "outputs": [],
   "source": [
    "# for a column-name in a dataframe, check in values contain 'm2'\n",
    "# then get the associated amount of m2, replace NaN with empty string\n",
    "def find_m2_for_column(frame, colname):\n",
    "    matched_substrs = frame[frame[colname].str.contains(r'm2', na=False)] \\\n",
    "    [colname].str.split('.')\n",
    "    \n",
    "    result = matched_substrs.apply(find_m2_in_txt) \\\n",
    "    .apply(lambda x: m2_amount(x) if type(x) is list else '') \n",
    "\n",
    "    # convert all NaN values to empty string\n",
    "    result.loc[result.isnull()] = ''\n",
    "    \n",
    "    return result "
   ]
  },
  {
   "cell_type": "code",
   "execution_count": 7,
   "metadata": {
    "collapsed": true,
    "deletable": true,
    "editable": true
   },
   "outputs": [],
   "source": [
    "def strip_nan(frame):\n",
    "    return frame.apply(lambda x: x if type(x) is str else '')"
   ]
  },
  {
   "cell_type": "code",
   "execution_count": 8,
   "metadata": {
    "collapsed": true,
    "deletable": true,
    "editable": true
   },
   "outputs": [],
   "source": [
    "def extract_m2_to_column(df, col_target='', col_output='', stripNaN=True):\n",
    "    df[col_output] = find_m2_for_column(df, col_target)\n",
    "    if stripNaN:\n",
    "        df[col_output] = strip_nan(df[col_output])\n",
    "    return df[col_output]"
   ]
  },
  {
   "cell_type": "code",
   "execution_count": 103,
   "metadata": {
    "collapsed": false,
    "deletable": true,
    "editable": true
   },
   "outputs": [
    {
     "data": {
      "text/plain": [
       "Index(['Unnamed: 0', 'accommodates', 'bathrooms', 'bedrooms', 'borough',\n",
       "       'city', 'country', 'host_id', 'last_modified', 'latitude', 'location',\n",
       "       'longitude', 'minstay', 'name', 'neighborhood', 'overall_satisfaction',\n",
       "       'price', 'reviews', 'room_id', 'room_type', 'survey_id'],\n",
       "      dtype='object')"
      ]
     },
     "execution_count": 103,
     "metadata": {},
     "output_type": "execute_result"
    }
   ],
   "source": [
    "df.columns"
   ]
  },
  {
   "cell_type": "code",
   "execution_count": 104,
   "metadata": {
    "collapsed": true,
    "deletable": true,
    "editable": true
   },
   "outputs": [],
   "source": [
    "targets = ['name']"
   ]
  },
  {
   "cell_type": "code",
   "execution_count": 105,
   "metadata": {
    "collapsed": true,
    "deletable": true,
    "editable": true
   },
   "outputs": [],
   "source": [
    "def extract_m2_target_columns(df, target_columns):\n",
    "    output_cols = []\n",
    "    for tc in target_columns:\n",
    "        output_col_name = 'm2_' + tc\n",
    "        output_cols.append(output_col_name)\n",
    "        extract_m2_to_column(df, col_target=tc, col_output= output_col_name)\n",
    "    return output_cols"
   ]
  },
  {
   "cell_type": "code",
   "execution_count": 106,
   "metadata": {
    "collapsed": false,
    "deletable": true,
    "editable": true,
    "scrolled": true
   },
   "outputs": [
    {
     "data": {
      "text/plain": [
       "['m2_name']"
      ]
     },
     "execution_count": 106,
     "metadata": {},
     "output_type": "execute_result"
    }
   ],
   "source": [
    "temporary_columns = extract_m2_target_columns(df, target_columns=targets); temporary_columns"
   ]
  },
  {
   "cell_type": "code",
   "execution_count": 108,
   "metadata": {
    "collapsed": true,
    "deletable": true,
    "editable": true
   },
   "outputs": [],
   "source": [
    "def combine_m2_columns(df, candidates=[]):\n",
    "    for c in candidates:\n",
    "        if not 'm2' in df:\n",
    "            df['m2'] = df[c]\n",
    "        elif len(df[c]) > len(df['m2']):\n",
    "            df['m2'] = df[c]\n",
    "    return df"
   ]
  },
  {
   "cell_type": "code",
   "execution_count": 109,
   "metadata": {
    "collapsed": true,
    "deletable": true,
    "editable": true
   },
   "outputs": [],
   "source": [
    "def replace_empty_values(df, target_col, cols):\n",
    "    for c in cols:\n",
    "        np.where((df[target_col] == '') & \\\n",
    "                (df[c] != ''), df[c], df[target_col])"
   ]
  },
  {
   "cell_type": "code",
   "execution_count": 110,
   "metadata": {
    "collapsed": false,
    "deletable": true,
    "editable": true
   },
   "outputs": [
    {
     "name": "stdout",
     "output_type": "stream",
     "text": [
      "total: 221067 , with_m2: 1726 , percentage:  0.780758774489\n"
     ]
    }
   ],
   "source": [
    "combined = combine_m2_columns(df, temporary_columns)\n",
    "replace_empty_values(df, 'm2', temporary_columns)\n",
    "unempty_m2 = df[df['m2'] != '']['m2']\n",
    "print('total:', df['host_id'].count(), ', with_m2:' , unempty_m2.count() \\\n",
    "    , ', percentage: ', unempty_m2.count() / df['host_id'].count() * 100)\n"
   ]
  },
  {
   "cell_type": "code",
   "execution_count": 111,
   "metadata": {
    "collapsed": true,
    "deletable": true,
    "editable": true
   },
   "outputs": [],
   "source": [
    "# drop the temporary columns\n",
    "filtered_df = df.drop(\n",
    "    temporary_columns\n",
    "    , axis=1)"
   ]
  },
  {
   "cell_type": "code",
   "execution_count": 112,
   "metadata": {
    "collapsed": true,
    "deletable": true,
    "editable": true
   },
   "outputs": [],
   "source": [
    "# Exort the results!\n",
    "filtered_df.to_csv(path + 'all_listings_summary_with_m2.csv')"
   ]
  }
 ],
 "metadata": {
  "kernelspec": {
   "display_name": "Python 3",
   "language": "python",
   "name": "python3"
  },
  "language_info": {
   "codemirror_mode": {
    "name": "ipython",
    "version": 3
   },
   "file_extension": ".py",
   "mimetype": "text/x-python",
   "name": "python",
   "nbconvert_exporter": "python",
   "pygments_lexer": "ipython3",
   "version": "3.5.2"
  }
 },
 "nbformat": 4,
 "nbformat_minor": 2
}
