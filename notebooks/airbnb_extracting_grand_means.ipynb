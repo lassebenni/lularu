{
 "cells": [
  {
   "cell_type": "code",
   "execution_count": 1,
   "metadata": {
    "collapsed": true,
    "deletable": true,
    "editable": true
   },
   "outputs": [],
   "source": [
    "import pandas as pd\n",
    "import numpy as np"
   ]
  },
  {
   "cell_type": "code",
   "execution_count": 188,
   "metadata": {
    "collapsed": true,
    "deletable": true,
    "editable": true
   },
   "outputs": [],
   "source": [
    "import glob\n",
    "path = \"inside_airbnb_listings/summary/\"\n",
    "filename= \"*.csv\"\n",
    "keys = []\n",
    "listings_dict = {}\n",
    "\n",
    "# Get all csv files in dir and map them to a tuple with the date and dataframe\n",
    "# put the dates in a list for easy iteration\n",
    "for fname in glob.glob(path+filename):\n",
    "    keys.append(fname)\n",
    "    try:\n",
    "        df = pd.read_csv(fname, encoding='ISO-8859-1', low_memory=False)\n",
    "        listings_dict = {**listings_dict, **{fname:df}}\n",
    "    except Exception as e:\n",
    "        print(e)"
   ]
  },
  {
   "cell_type": "code",
   "execution_count": 6,
   "metadata": {
    "collapsed": true,
    "deletable": true,
    "editable": true
   },
   "outputs": [],
   "source": [
    "# For all the dates get the dataframes. Then get the all the associated columns.\n",
    "# Count each occurance of a column to see what columns are missing.\n",
    "columns = {}\n",
    "for k in keys:\n",
    "    for col in listings_dict.get(k).columns:\n",
    "        if col in  columns.keys():\n",
    "            val = columns.get(col) + 1\n",
    "            columns = {**columns, **{col:val}}\n",
    "        else: \n",
    "            columns = {**columns, **{col:0}}"
   ]
  },
  {
   "cell_type": "code",
   "execution_count": 10,
   "metadata": {
    "collapsed": false,
    "deletable": true,
    "editable": true
   },
   "outputs": [
    {
     "data": {
      "text/plain": [
       "['id',\n",
       " 'name',\n",
       " 'host_id',\n",
       " 'host_name',\n",
       " 'neighbourhood_group',\n",
       " 'neighbourhood',\n",
       " 'latitude',\n",
       " 'longitude',\n",
       " 'room_type',\n",
       " 'price',\n",
       " 'minimum_nights',\n",
       " 'number_of_reviews',\n",
       " 'last_review',\n",
       " 'reviews_per_month',\n",
       " 'calculated_host_listings_count',\n",
       " 'availability_365']"
      ]
     },
     "execution_count": 10,
     "metadata": {},
     "output_type": "execute_result"
    }
   ],
   "source": [
    "present_in_all = []     \n",
    "present_in_some = []          \n",
    "max_value = columns.get(max(columns, key=columns.get))\n",
    "## for all columns check if they are in all (max) of the datasets\n",
    "[present_in_all.append(k) if v == max_value else present_in_some.append(k)  \n",
    "         for (k, v) in columns.items()]\n",
    "present_in_all"
   ]
  },
  {
   "cell_type": "code",
   "execution_count": 11,
   "metadata": {
    "collapsed": true,
    "deletable": true,
    "editable": true
   },
   "outputs": [],
   "source": [
    "# Return a dict containing Series of matched column names in DataFrames \n",
    "def match_on_column_name(name='', columns=columns):\n",
    "    dict_result = {}\n",
    "    for key in columns.keys():\n",
    "        df = columns.get(key)\n",
    "        if name in df:\n",
    "            dict_result = {**dict_result, **{key:df[name]}}\n",
    "    return dict_result            "
   ]
  },
  {
   "cell_type": "code",
   "execution_count": 99,
   "metadata": {
    "collapsed": true,
    "deletable": true,
    "editable": true
   },
   "outputs": [],
   "source": [
    "def get_grand_mean_for_column(name='', dictionary=()):\n",
    "    grand_mean = 0\n",
    "    matched = match_on_column_name(name, dictionary)\n",
    "    means = []\n",
    "    for x in matched.keys():\n",
    "        match_value = matched.get(x) \n",
    "        if 'mean' in match_value.describe():\n",
    "            means.append(match_value.describe()['mean'])\n",
    "        else:\n",
    "            print('no mean found')\n",
    "    if len(means) > 0:\n",
    "        grand_mean = sum(means)/len(means)\n",
    "    return grand_mean"
   ]
  },
  {
   "cell_type": "code",
   "execution_count": 13,
   "metadata": {
    "collapsed": true,
    "deletable": true,
    "editable": true
   },
   "outputs": [],
   "source": [
    "def results_to_tuple(action, ls):\n",
    "    result = {}\n",
    "    for x in ls:\n",
    "        result = {**result, **{x:action(x)}}\n",
    "    return result"
   ]
  },
  {
   "cell_type": "code",
   "execution_count": 17,
   "metadata": {
    "collapsed": false,
    "deletable": true,
    "editable": true
   },
   "outputs": [
    {
     "data": {
      "text/plain": [
       "{'price': 135.36038075733214, 'reviews_per_month': 1.390548330482227}"
      ]
     },
     "execution_count": 17,
     "metadata": {},
     "output_type": "execute_result"
    }
   ],
   "source": [
    "# get grand mean for input columns and return a tuple \n",
    "# containing the column-name and the grand mean\n",
    "results_to_tuple(lambda x: get_grand_mean_for_column(x, listings_dict)\n",
    ", [ 'price', 'reviews_per_month', 'minimum_nights', ])"
   ]
  },
  {
   "cell_type": "code",
   "execution_count": 15,
   "metadata": {
    "collapsed": true,
    "deletable": true,
    "editable": true
   },
   "outputs": [],
   "source": [
    "# join all listings\n",
    "joined = pd.concat(listings_dict.values())"
   ]
  },
  {
   "cell_type": "code",
   "execution_count": 45,
   "metadata": {
    "collapsed": true,
    "deletable": true,
    "editable": true
   },
   "outputs": [
    {
     "data": {
      "text/plain": [
       "Index(['Unnamed: 0', 'Unnamed: 0.1', 'Unnamed: 0.1.1', 'availability_365',\n",
       "       'calculated_host_listings_count', 'date', 'host_id', 'host_name', 'id',\n",
       "       'last_review', 'latitude', 'listing_id', 'longitude', 'm2',\n",
       "       'minimum_nights', 'name', 'neighbourhood', 'neighbourhood_group',\n",
       "       'number_of_reviews', 'price', 'reviews_per_month', 'room_type',\n",
       "       'price_per_reviews_per_month'],\n",
       "      dtype='object')"
      ]
     },
     "execution_count": 45,
     "metadata": {},
     "output_type": "execute_result"
    }
   ],
   "source": [
    "joined.columns"
   ]
  },
  {
   "cell_type": "code",
   "execution_count": 121,
   "metadata": {
    "collapsed": true,
    "deletable": true,
    "editable": true
   },
   "outputs": [],
   "source": [
    "def get_top_w_count(cols, df):\n",
    "    result = {}\n",
    "    for c in cols:\n",
    "        top = df[c].describe()['top']\n",
    "        freq = df[c].describe()['freq']\n",
    "        result = {**result, **{c:{top:freq}}}\n",
    "    return result"
   ]
  },
  {
   "cell_type": "code",
   "execution_count": 154,
   "metadata": {
    "collapsed": true,
    "deletable": true,
    "editable": true
   },
   "outputs": [],
   "source": [
    "def get_mean(cols, df):\n",
    "    result = {}\n",
    "    for c in cols:\n",
    "        mean = df[c].describe()['mean']\n",
    "        result = {**result, **{c:mean}}\n",
    "    return result"
   ]
  },
  {
   "cell_type": "code",
   "execution_count": 193,
   "metadata": {
    "collapsed": true,
    "deletable": true,
    "editable": true
   },
   "outputs": [],
   "source": [
    "top_cols = ['host_name', 'last_review' \\\n",
    "            , 'name', 'neighbourhood', 'room_type']\n",
    "mean_cols = ['availability_365', 'calculated_host_listings_count', \\\n",
    "          'm2', 'minimum_nights', 'number_of_reviews', \\\n",
    "          'price', 'reviews_per_month']"
   ]
  },
  {
   "cell_type": "code",
   "execution_count": 194,
   "metadata": {
    "collapsed": true,
    "deletable": true,
    "editable": true
   },
   "outputs": [],
   "source": [
    "#get top and mean cols and add together to one dictionary.\n",
    "joined_top_dict = get_top_w_count(top_cols, joined)\n",
    "joined_mean_dict = get_mean(mean_cols, joined)\n",
    "joined_mean_dict.update(joined_top_dict)"
   ]
  },
  {
   "cell_type": "code",
   "execution_count": 195,
   "metadata": {
    "collapsed": false,
    "deletable": true,
    "editable": true
   },
   "outputs": [
    {
     "data": {
      "text/plain": [
       "{'availability_365': 117.93763404102069,\n",
       " 'calculated_host_listings_count': 4.1083680987118694,\n",
       " 'host_name': {'Martijn': 8085},\n",
       " 'last_review': {'2017-05-28': 14090},\n",
       " 'm2': 96.541949015811554,\n",
       " 'minimum_nights': 2.8127705878918712,\n",
       " 'name': {'Amsterdam': 1603},\n",
       " 'neighbourhood': {'De Baarsjes - Oud-West': 244999},\n",
       " 'number_of_reviews': 18.020541995240819,\n",
       " 'price': 135.18925660120155,\n",
       " 'reviews_per_month': 1.3640560230125258,\n",
       " 'room_type': {'Entire home/apt': 1129049}}"
      ]
     },
     "execution_count": 195,
     "metadata": {},
     "output_type": "execute_result"
    }
   ],
   "source": [
    "joined_mean_dict"
   ]
  },
  {
   "cell_type": "code",
   "execution_count": 196,
   "metadata": {
    "collapsed": true,
    "deletable": true,
    "editable": true
   },
   "outputs": [],
   "source": [
    "dropped_duplicate_ids = joined.drop_duplicates('id')\n",
    "#get top and mean cols and add together to one dictionary.\n",
    "dropped_top_dict = get_top_w_count(top_cols, dropped_duplicate_ids)\n",
    "dropped_mean_dict = get_mean(mean_cols, dropped_duplicate_ids)\n",
    "dropped_mean_dict.update(dropped_top_dict)"
   ]
  },
  {
   "cell_type": "code",
   "execution_count": 197,
   "metadata": {
    "collapsed": false,
    "deletable": true,
    "editable": true
   },
   "outputs": [
    {
     "data": {
      "text/plain": [
       "{'availability_365': 117.96454217849909,\n",
       " 'calculated_host_listings_count': 5.3554199437093928,\n",
       " 'host_name': {'Sammy': 303},\n",
       " 'last_review': {'2016-11-13': 435},\n",
       " 'm2': nan,\n",
       " 'minimum_nights': 2.7395112712733778,\n",
       " 'name': {'Amsterdam': 75},\n",
       " 'neighbourhood': {'De Baarsjes - Oud-West': 6159},\n",
       " 'number_of_reviews': 10.499539679617014,\n",
       " 'price': 134.51982008049032,\n",
       " 'reviews_per_month': 1.4755028730164907,\n",
       " 'room_type': {'Entire home/apt': 29891}}"
      ]
     },
     "execution_count": 197,
     "metadata": {},
     "output_type": "execute_result"
    }
   ],
   "source": [
    "dropped_mean_dict"
   ]
  },
  {
   "cell_type": "code",
   "execution_count": 198,
   "metadata": {
    "collapsed": true,
    "deletable": true,
    "editable": true
   },
   "outputs": [],
   "source": [
    "import csv\n",
    "with open(path + 'filtered_id_all_listings_summary_described.csv', 'w') as f:\n",
    "    w = csv.DictWriter(f, dropped_mean_dict.keys())\n",
    "    w.writeheader()\n",
    "    w.writerow(dropped_mean_dict)"
   ]
  },
  {
   "cell_type": "code",
   "execution_count": 18,
   "metadata": {
    "collapsed": true,
    "deletable": true,
    "editable": true
   },
   "outputs": [],
   "source": [
    "# For all rows in the dataframe, divide the price by number of bedrooms\n",
    "# joined[\"price_per_reviews_per_month\"] = joined[\"price\"].div(joined[\"reviews_per_month\"])"
   ]
  },
  {
   "cell_type": "code",
   "execution_count": 19,
   "metadata": {
    "collapsed": true,
    "deletable": true,
    "editable": true
   },
   "outputs": [],
   "source": [
    "# for each value where the price_per_bedroom is higher than 100, return NaN \n",
    "# joined.loc[joined[\"price_per_reviews_per_month\"] > 1e100,\"price_per_reviews_per_month\"] = np.nan\n"
   ]
  },
  {
   "cell_type": "code",
   "execution_count": 20,
   "metadata": {
    "collapsed": true,
    "deletable": true,
    "editable": true
   },
   "outputs": [
    {
     "data": {
      "text/plain": [
       "count    1.290434e+06\n",
       "mean     3.166536e+02\n",
       "std      6.111420e+02\n",
       "min      0.000000e+00\n",
       "25%      6.299213e+01\n",
       "50%      1.414286e+02\n",
       "75%      3.214286e+02\n",
       "max      2.200000e+04\n",
       "Name: price_per_reviews_per_month, dtype: float64"
      ]
     },
     "execution_count": 20,
     "metadata": {},
     "output_type": "execute_result"
    }
   ],
   "source": [
    "# joined[\"price_per_reviews_per_month\"].describe()"
   ]
  }
 ],
 "metadata": {
  "kernelspec": {
   "display_name": "Python 3",
   "language": "python",
   "name": "python3"
  },
  "language_info": {
   "codemirror_mode": {
    "name": "ipython",
    "version": 3
   },
   "file_extension": ".py",
   "mimetype": "text/x-python",
   "name": "python",
   "nbconvert_exporter": "python",
   "pygments_lexer": "ipython3",
   "version": "3.5.2"
  }
 },
 "nbformat": 4,
 "nbformat_minor": 2
}
