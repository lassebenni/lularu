{
 "cells": [
  {
   "cell_type": "code",
   "execution_count": 1,
   "metadata": {
    "collapsed": true,
    "deletable": true,
    "editable": true
   },
   "outputs": [],
   "source": [
    "import pandas as pd\n",
    "import numpy as np"
   ]
  },
  {
   "cell_type": "code",
   "execution_count": 22,
   "metadata": {
    "collapsed": true,
    "deletable": true,
    "editable": true
   },
   "outputs": [],
   "source": [
    "path = \"tom_slee/results/\"\n",
    "filename = 'filtered_summary.csv'"
   ]
  },
  {
   "cell_type": "code",
   "execution_count": 23,
   "metadata": {
    "collapsed": true,
    "deletable": true,
    "editable": true
   },
   "outputs": [],
   "source": [
    "df = pd.read_csv(path + filename, encoding='ISO-8859-1', low_memory=False)"
   ]
  },
  {
   "cell_type": "code",
   "execution_count": 24,
   "metadata": {
    "collapsed": false,
    "deletable": true,
    "editable": true
   },
   "outputs": [
    {
     "data": {
      "text/html": [
       "<div>\n",
       "<style>\n",
       "    .dataframe thead tr:only-child th {\n",
       "        text-align: right;\n",
       "    }\n",
       "\n",
       "    .dataframe thead th {\n",
       "        text-align: left;\n",
       "    }\n",
       "\n",
       "    .dataframe tbody tr th {\n",
       "        vertical-align: top;\n",
       "    }\n",
       "</style>\n",
       "<table border=\"1\" class=\"dataframe\">\n",
       "  <thead>\n",
       "    <tr style=\"text-align: right;\">\n",
       "      <th></th>\n",
       "      <th>city</th>\n",
       "      <th>last_modified</th>\n",
       "      <th>location</th>\n",
       "      <th>name</th>\n",
       "      <th>neighborhood</th>\n",
       "      <th>room_type</th>\n",
       "      <th>accommodates</th>\n",
       "      <th>bathrooms</th>\n",
       "      <th>bedrooms</th>\n",
       "      <th>borough</th>\n",
       "      <th>country</th>\n",
       "      <th>host_id</th>\n",
       "      <th>latitude</th>\n",
       "      <th>longitude</th>\n",
       "      <th>minstay</th>\n",
       "      <th>overall_satisfaction</th>\n",
       "      <th>price</th>\n",
       "      <th>survey_id</th>\n",
       "      <th>m2</th>\n",
       "    </tr>\n",
       "  </thead>\n",
       "  <tbody>\n",
       "    <tr>\n",
       "      <th>0</th>\n",
       "      <td>{'Amsterdam': {'frequency': 3186}}</td>\n",
       "      <td>{'2016-12-15 21:17:18.450110': {'frequency': 1}}</td>\n",
       "      <td>{'0101000020E6100000A4198BA6B3B313406803B00111...</td>\n",
       "      <td>{'Amsterdam': {'frequency': 20}}</td>\n",
       "      <td>{'De Baarsjes / Oud West': {'frequency': 4719}}</td>\n",
       "      <td>{'Entire home/apt': {'frequency': 23463}}</td>\n",
       "      <td>2.91651</td>\n",
       "      <td>NaN</td>\n",
       "      <td>1.397412</td>\n",
       "      <td>NaN</td>\n",
       "      <td>NaN</td>\n",
       "      <td>3.127229e+07</td>\n",
       "      <td>52.364795</td>\n",
       "      <td>4.888285</td>\n",
       "      <td>2.383062</td>\n",
       "      <td>3.294819</td>\n",
       "      <td>156.472707</td>\n",
       "      <td>1327.687382</td>\n",
       "      <td>88.606061</td>\n",
       "    </tr>\n",
       "  </tbody>\n",
       "</table>\n",
       "</div>"
      ],
      "text/plain": [
       "                                 city  \\\n",
       "0  {'Amsterdam': {'frequency': 3186}}   \n",
       "\n",
       "                                      last_modified  \\\n",
       "0  {'2016-12-15 21:17:18.450110': {'frequency': 1}}   \n",
       "\n",
       "                                            location  \\\n",
       "0  {'0101000020E6100000A4198BA6B3B313406803B00111...   \n",
       "\n",
       "                               name  \\\n",
       "0  {'Amsterdam': {'frequency': 20}}   \n",
       "\n",
       "                                      neighborhood  \\\n",
       "0  {'De Baarsjes / Oud West': {'frequency': 4719}}   \n",
       "\n",
       "                                   room_type  accommodates  bathrooms  \\\n",
       "0  {'Entire home/apt': {'frequency': 23463}}       2.91651        NaN   \n",
       "\n",
       "   bedrooms  borough  country       host_id   latitude  longitude   minstay  \\\n",
       "0  1.397412      NaN      NaN  3.127229e+07  52.364795   4.888285  2.383062   \n",
       "\n",
       "   overall_satisfaction       price    survey_id         m2  \n",
       "0              3.294819  156.472707  1327.687382  88.606061  "
      ]
     },
     "execution_count": 24,
     "metadata": {},
     "output_type": "execute_result"
    }
   ],
   "source": [
    "df"
   ]
  }
 ],
 "metadata": {
  "kernelspec": {
   "display_name": "Python 3",
   "language": "python",
   "name": "python3"
  },
  "language_info": {
   "codemirror_mode": {
    "name": "ipython",
    "version": 3
   },
   "file_extension": ".py",
   "mimetype": "text/x-python",
   "name": "python",
   "nbconvert_exporter": "python",
   "pygments_lexer": "ipython3",
   "version": "3.5.2"
  }
 },
 "nbformat": 4,
 "nbformat_minor": 2
}
