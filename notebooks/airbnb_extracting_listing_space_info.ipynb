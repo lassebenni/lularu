{
 "cells": [
  {
   "cell_type": "code",
   "execution_count": 2,
   "metadata": {
    "collapsed": true
   },
   "outputs": [],
   "source": [
    "import pandas as pd\n",
    "import numpy as np"
   ]
  },
  {
   "cell_type": "code",
   "execution_count": 192,
   "metadata": {
    "collapsed": false
   },
   "outputs": [
    {
     "data": {
      "text/plain": [
       "['host_id',\n",
       " 'room_type',\n",
       " 'longitude',\n",
       " 'bedrooms',\n",
       " 'latitude',\n",
       " 'accommodates',\n",
       " 'last_modified',\n",
       " 'room_id',\n",
       " 'reviews',\n",
       " 'borough',\n",
       " 'overall_satisfaction',\n",
       " 'price',\n",
       " 'neighborhood',\n",
       " 'minstay']"
      ]
     },
     "execution_count": 192,
     "metadata": {},
     "output_type": "execute_result"
    }
   ],
   "source": [
    "import glob\n",
    "path = \"*.csv\"\n",
    "dates = []\n",
    "listings_dict = {}\n",
    "\n",
    "# Get all csv files in dir and map them to a tuple with the date and dataframe\n",
    "# put the dates in a list for easy iteration\n",
    "for fname in glob.glob(path):\n",
    "    date = fname.split('_')[4].split('.')[0]\n",
    "    \n",
    "    dates.append(date)\n",
    "    listings_dict = {**listings_dict, **{date:pd.read_csv(fname)}}\n",
    "    \n",
    "columns = {}\n",
    "\n",
    "# For all the dates get the dataframes. Then get the all the associated columns.\n",
    "# Count each occurance of a column to see what columns are missing.\n",
    "for d in dates:\n",
    "    for c in listings_dict.get(d).columns:\n",
    "        if c in  columns.keys():\n",
    "            val = columns.get(c) + 1\n",
    "            columns = {**columns, **{c:val}}\n",
    "        else: \n",
    "            columns = {**columns, **{c:0}}\n",
    "            \n",
    "present_in_all = []     \n",
    "present_in_some = []          \n",
    "max_value = columns.get(max(columns, key=columns.get))\n",
    "[present_in_all.append(k) if v == max_value else present_in_some.append(k)  \n",
    "         for (k, v) in columns.items()]\n",
    "present_in_all"
   ]
  },
  {
   "cell_type": "code",
   "execution_count": 394,
   "metadata": {
    "collapsed": false
   },
   "outputs": [
    {
     "data": {
      "text/plain": [
       "'De Baarsjes / Oud West'"
      ]
     },
     "execution_count": 394,
     "metadata": {},
     "output_type": "execute_result"
    }
   ],
   "source": [
    "first = listings_dict.get(next(iter(listings_dict)))['neighborhood'].describe();first['top']"
   ]
  },
  {
   "cell_type": "code",
   "execution_count": 181,
   "metadata": {
    "collapsed": true
   },
   "outputs": [],
   "source": [
    "# Return a dict containing Series of matched column names in DataFrames \n",
    "def match_on_column_name(name='', columns=columns):\n",
    "    dict_result = {}\n",
    "    for key in columns.keys():\n",
    "        df = columns.get(key)\n",
    "        if name in df:\n",
    "            dict_result = {**dict_result, **{key:df[name]}}\n",
    "    return dict_result            "
   ]
  },
  {
   "cell_type": "code",
   "execution_count": 464,
   "metadata": {
    "collapsed": false
   },
   "outputs": [],
   "source": [
    "from IPython.core.debugger import set_trace\n",
    "\n",
    "def get_grand_mean_for_column(name='', dictionary=listings_dict):\n",
    "    grand_mean = 0\n",
    "    matched = match_on_column_name(name, dictionary)\n",
    "    means = []\n",
    "    for x in matched.keys():\n",
    "        match_value = matched.get(x) \n",
    "        if 'mean' in match_value.describe():\n",
    "            means.append(match_value.describe()['mean'])\n",
    "        else:\n",
    "            True\n",
    "            print(match_value.describe()['top'])\n",
    "#             means.append(match_value)\n",
    "    if len(means) > 0:\n",
    "        grand_mean = sum(means)/len(means)\n",
    "    return grand_mean"
   ]
  },
  {
   "cell_type": "code",
   "execution_count": 425,
   "metadata": {
    "collapsed": false
   },
   "outputs": [],
   "source": [
    "def results_to_tuple(action, ls):\n",
    "    result = {}\n",
    "    for x in ls:\n",
    "        result = {**result, **{x:action(x)}}\n",
    "    return result"
   ]
  },
  {
   "cell_type": "code",
   "execution_count": 465,
   "metadata": {
    "collapsed": false
   },
   "outputs": [
    {
     "name": "stdout",
     "output_type": "stream",
     "text": [
      "De Baarsjes / Oud West\n",
      "Centrum West\n",
      "Centrum West\n",
      "Centrum West\n",
      "De Baarsjes / Oud West\n",
      "De Baarsjes / Oud West\n",
      "De Baarsjes / Oud West\n",
      "De Baarsjes / Oud West\n",
      "De Baarsjes / Oud West\n",
      "Centrum West\n",
      "De Baarsjes / Oud West\n",
      "De Baarsjes / Oud West\n",
      "De Baarsjes / Oud West\n",
      "Centrum West\n",
      "De Baarsjes / Oud West\n",
      "De Baarsjes / Oud West\n"
     ]
    },
    {
     "data": {
      "text/plain": [
       "0"
      ]
     },
     "execution_count": 465,
     "metadata": {},
     "output_type": "execute_result"
    }
   ],
   "source": [
    "lol = results_to_tuple(lambda x: get_grand_mean_for_column(x, listings_dict)\n",
    ", [ 'neighborhood'])\n",
    "lol.get('neighborhood')"
   ]
  }
 ],
 "metadata": {
  "kernelspec": {
   "display_name": "Python 3",
   "language": "python",
   "name": "python3"
  },
  "language_info": {
   "codemirror_mode": {
    "name": "ipython",
    "version": 3
   },
   "file_extension": ".py",
   "mimetype": "text/x-python",
   "name": "python",
   "nbconvert_exporter": "python",
   "pygments_lexer": "ipython3",
   "version": "3.5.2"
  }
 },
 "nbformat": 4,
 "nbformat_minor": 2
}
