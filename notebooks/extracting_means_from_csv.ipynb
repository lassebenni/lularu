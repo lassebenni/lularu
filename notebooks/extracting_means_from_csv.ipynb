{
 "cells": [
  {
   "cell_type": "code",
   "execution_count": 1,
   "metadata": {
    "collapsed": true
   },
   "outputs": [],
   "source": [
    "import pandas as pd\n",
    "import numpy as np"
   ]
  },
  {
   "cell_type": "code",
   "execution_count": 2,
   "metadata": {
    "collapsed": true
   },
   "outputs": [],
   "source": [
    "path = \"tom_slee/results/\"\n",
    "filename = 'all_tom_slee_listings_with_m2.csv'"
   ]
  },
  {
   "cell_type": "code",
   "execution_count": 3,
   "metadata": {},
   "outputs": [],
   "source": [
    "df = pd.read_csv(path + filename, encoding='ISO-8859-1', low_memory=False)"
   ]
  },
  {
   "cell_type": "code",
   "execution_count": 4,
   "metadata": {
    "collapsed": true
   },
   "outputs": [],
   "source": [
    "# df.columns"
   ]
  },
  {
   "cell_type": "code",
   "execution_count": 5,
   "metadata": {
    "collapsed": true
   },
   "outputs": [],
   "source": [
    "def get_top_w_count(cols, frame):\n",
    "    result = {}\n",
    "    for c in cols:\n",
    "        if 'top' in frame[c].describe() and 'freq' in frame[c].describe():\n",
    "            top = frame[c].describe()['top']\n",
    "            freq = frame[c].describe()['freq']\n",
    "            result = {**result, **{c:{top:{'frequency':freq}}}}\n",
    "    return result"
   ]
  },
  {
   "cell_type": "code",
   "execution_count": 6,
   "metadata": {
    "collapsed": true
   },
   "outputs": [],
   "source": [
    "def get_mean(cols, frame):\n",
    "    result = {}\n",
    "    for c in cols:\n",
    "        mean = frame[c].describe()['mean']\n",
    "        result = {**result, **{c:mean}}\n",
    "    return result"
   ]
  },
  {
   "cell_type": "code",
   "execution_count": 7,
   "metadata": {},
   "outputs": [],
   "source": [
    "def get_cols_for_type(frame, ls, nptype):\n",
    "    result = []\n",
    "    for l in ls:\n",
    "        if frame[l].dtype is nptype:\n",
    "            result.append(l)\n",
    "    return result"
   ]
  },
  {
   "cell_type": "code",
   "execution_count": 8,
   "metadata": {},
   "outputs": [],
   "source": [
    "string_cols = get_cols_for_type(df, df.columns, np.dtype('O'))\n",
    "float_cols = get_cols_for_type(df, df.columns, np.dtype('float64'))"
   ]
  },
  {
   "cell_type": "code",
   "execution_count": 9,
   "metadata": {},
   "outputs": [],
   "source": [
    "df_top_cols = get_top_w_count(string_cols, df)\n",
    "df_mean_cols = get_mean(float_cols, df)\n",
    "\n",
    "merged_cols = {}\n",
    "merged_cols.update(df_top_cols)\n",
    "merged_cols.update(df_mean_cols)"
   ]
  },
  {
   "cell_type": "code",
   "execution_count": 11,
   "metadata": {},
   "outputs": [],
   "source": [
    "df_dropped = df.drop_duplicates('host_id')\n",
    "\n",
    "string_cols = get_cols_for_type(df_dropped, df_dropped.columns, np.dtype('O'))\n",
    "float_cols = get_cols_for_type(df_dropped, df_dropped.columns, np.dtype('float64'))\n",
    "\n",
    "dropped_top_cols= get_top_w_count(string_cols, df_dropped)\n",
    "dropped_mean_cols = get_mean(float_cols, df_dropped)\n",
    "\n",
    "merged_dropped = {}\n",
    "merged_dropped.update(dropped_top_cols)\n",
    "merged_dropped.update(dropped_mean_cols)"
   ]
  },
  {
   "cell_type": "code",
   "execution_count": 12,
   "metadata": {},
   "outputs": [],
   "source": [
    "import csv\n",
    "def dict_to_csv(path, dictionary):\n",
    "    with open(path, 'w') as f:\n",
    "        w = csv.DictWriter(f, dictionary.keys())\n",
    "        w.writeheader()\n",
    "        w.writerow(dictionary)"
   ]
  },
  {
   "cell_type": "code",
   "execution_count": 13,
   "metadata": {},
   "outputs": [],
   "source": [
    "output_path = path + \"described_summary.csv\"\n",
    "dict_to_csv(output_path, merged_cols)"
   ]
  },
  {
   "cell_type": "code",
   "execution_count": 14,
   "metadata": {
    "collapsed": true
   },
   "outputs": [],
   "source": [
    "output_path = path +\"filtered_summary.csv\"\n",
    "dict_to_csv(output_path, merged_dropped)"
   ]
  },
  {
   "cell_type": "code",
   "execution_count": 25,
   "metadata": {},
   "outputs": [],
   "source": [
    "import json\n",
    "with open(path + 'described_listings.json', 'w') as outfile:\n",
    "    json.dump(df_mean_cols, outfile, ensure_ascii=False)"
   ]
  },
  {
   "cell_type": "code",
   "execution_count": null,
   "metadata": {
    "collapsed": true
   },
   "outputs": [],
   "source": []
  }
 ],
 "metadata": {
  "kernelspec": {
   "display_name": "Python 3",
   "language": "python",
   "name": "python3"
  },
  "language_info": {
   "codemirror_mode": {
    "name": "ipython",
    "version": 3
   },
   "file_extension": ".py",
   "mimetype": "text/x-python",
   "name": "python",
   "nbconvert_exporter": "python",
   "pygments_lexer": "ipython3",
   "version": "3.6.3"
  }
 },
 "nbformat": 4,
 "nbformat_minor": 2
}
